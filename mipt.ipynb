{
 "cells": [
  {
   "cell_type": "markdown",
   "metadata": {},
   "source": [
    "# Python"
   ]
  },
  {
   "cell_type": "markdown",
   "metadata": {},
   "source": [
    "### 1 Напишите решение Fizzbuzz question"
   ]
  },
  {
   "cell_type": "code",
   "execution_count": 15,
   "metadata": {
    "collapsed": false
   },
   "outputs": [
    {
     "name": "stdout",
     "output_type": "stream",
     "text": [
      "1\n",
      "2\n",
      "Fizz\n",
      "4\n",
      "Buzz\n",
      "Fizz\n",
      "7\n",
      "8\n",
      "Fizz\n",
      "Buzz\n",
      "11\n",
      "Fizz\n",
      "13\n",
      "14\n",
      "FizzBuzz\n",
      "16\n",
      "17\n",
      "Fizz\n",
      "19\n",
      "Buzz\n",
      "Fizz\n",
      "22\n",
      "23\n",
      "Fizz\n",
      "Buzz\n",
      "26\n",
      "Fizz\n",
      "28\n",
      "29\n",
      "FizzBuzz\n",
      "31\n",
      "32\n",
      "Fizz\n",
      "34\n",
      "Buzz\n",
      "Fizz\n",
      "37\n",
      "38\n",
      "Fizz\n",
      "Buzz\n",
      "41\n",
      "Fizz\n",
      "43\n",
      "44\n",
      "FizzBuzz\n",
      "46\n",
      "47\n",
      "Fizz\n",
      "49\n",
      "Buzz\n",
      "Fizz\n",
      "52\n",
      "53\n",
      "Fizz\n",
      "Buzz\n",
      "56\n",
      "Fizz\n",
      "58\n",
      "59\n",
      "FizzBuzz\n",
      "61\n",
      "62\n",
      "Fizz\n",
      "64\n",
      "Buzz\n",
      "Fizz\n",
      "67\n",
      "68\n",
      "Fizz\n",
      "Buzz\n",
      "71\n",
      "Fizz\n",
      "73\n",
      "74\n",
      "FizzBuzz\n",
      "76\n",
      "77\n",
      "Fizz\n",
      "79\n",
      "Buzz\n",
      "Fizz\n",
      "82\n",
      "83\n",
      "Fizz\n",
      "Buzz\n",
      "86\n",
      "Fizz\n",
      "88\n",
      "89\n",
      "FizzBuzz\n",
      "91\n",
      "92\n",
      "Fizz\n",
      "94\n",
      "Buzz\n",
      "Fizz\n",
      "97\n",
      "98\n",
      "Fizz\n",
      "Buzz\n"
     ]
    }
   ],
   "source": [
    "for i in range (1,101):\n",
    "    if (i%15)==0:\n",
    "        print 'FizzBuzz'\n",
    "     \n",
    "    elif (i%5)==0:\n",
    "        print 'Buzz'\n",
    "    elif (i%3)==0:\n",
    "        print 'Fizz'\n",
    "    else:\n",
    "        print  i    "
   ]
  },
  {
   "cell_type": "markdown",
   "metadata": {},
   "source": [
    "### 2.Напишите вычисление сотого числа Фибоначчи\n",
    "\n"
   ]
  },
  {
   "cell_type": "code",
   "execution_count": 16,
   "metadata": {
    "collapsed": false
   },
   "outputs": [
    {
     "name": "stdout",
     "output_type": "stream",
     "text": [
      "354224848179261915075\n"
     ]
    }
   ],
   "source": [
    "n=100\n",
    "\n",
    "\n",
    "\n",
    "def f(n):\n",
    "    a=1\n",
    "    b=1\n",
    "    c=0\n",
    "    for i in range(2,100):\n",
    "        c=a+b\n",
    "        a=b\n",
    "        b=c\n",
    "    return c\n",
    "\n",
    "\n",
    "print f(n)\n",
    "    \n"
   ]
  },
  {
   "cell_type": "markdown",
   "metadata": {},
   "source": [
    "# NumPy\n",
    "### Напишите свой аналог numpy.linspace с использованием цикла и с использованием list comprehension. Сравните все три варианта по времени работы."
   ]
  },
  {
   "cell_type": "code",
   "execution_count": 28,
   "metadata": {
    "collapsed": true
   },
   "outputs": [],
   "source": [
    "%matplotlib inline\n",
    "import numpy as np\n",
    "import matplotlib.pyplot as plt"
   ]
  },
  {
   "cell_type": "code",
   "execution_count": 71,
   "metadata": {
    "collapsed": false
   },
   "outputs": [],
   "source": [
    "def linspace_mine_for(start,finish,col):\n",
    "    step=(finish-start)*1.0/(col-1)\n",
    "    print step\n",
    "    ans=[]\n",
    "    chislo=start\n",
    "    for i in range (col):\n",
    "  \n",
    "        chislo=start+step*i\n",
    "        ans.append(chislo)\n",
    "     \n",
    "    ans[col-1]=finish\n",
    "    return   ans \n",
    "\n",
    "\n",
    "def linspace_mine_list(start,finish,col):\n",
    "    step=(finish-start)*1.0/(col-1)\n",
    "    return  [start+step*j for j in range(col)]"
   ]
  },
  {
   "cell_type": "raw",
   "metadata": {},
   "source": [
    "%%time\n",
    "linspace_mine_for(  0, 2, 9 )"
   ]
  },
  {
   "cell_type": "code",
   "execution_count": 72,
   "metadata": {
    "collapsed": false
   },
   "outputs": [
    {
     "name": "stdout",
     "output_type": "stream",
     "text": [
      "CPU times: user 0 ns, sys: 0 ns, total: 0 ns\n",
      "Wall time: 41 µs\n"
     ]
    },
    {
     "data": {
      "text/plain": [
       "array([ 0.  ,  0.25,  0.5 ,  0.75,  1.  ,  1.25,  1.5 ,  1.75,  2.  ])"
      ]
     },
     "execution_count": 72,
     "metadata": {},
     "output_type": "execute_result"
    }
   ],
   "source": [
    "%%time\n",
    "np.linspace(  0, 2, 9 )"
   ]
  },
  {
   "cell_type": "code",
   "execution_count": 73,
   "metadata": {
    "collapsed": false
   },
   "outputs": [
    {
     "name": "stdout",
     "output_type": "stream",
     "text": [
      "CPU times: user 0 ns, sys: 0 ns, total: 0 ns\n",
      "Wall time: 10 µs\n"
     ]
    },
    {
     "data": {
      "text/plain": [
       "[0.0, 0.25, 0.5, 0.75, 1.0, 1.25, 1.5, 1.75, 2.0]"
      ]
     },
     "execution_count": 73,
     "metadata": {},
     "output_type": "execute_result"
    }
   ],
   "source": [
    "%%time\n",
    "linspace_mine_list(  0, 2, 9 )"
   ]
  },
  {
   "cell_type": "markdown",
   "metadata": {},
   "source": [
    "### Сравните по производительности основные операции с массивами numpy.ndarray и list"
   ]
  },
  {
   "cell_type": "code",
   "execution_count": 74,
   "metadata": {
    "collapsed": false
   },
   "outputs": [
    {
     "name": "stdout",
     "output_type": "stream",
     "text": [
      "CPU times: user 0 ns, sys: 0 ns, total: 0 ns\n",
      "Wall time: 16 µs\n"
     ]
    }
   ],
   "source": [
    "%%time\n",
    "a=[1.1]*100\n",
    "b=[2.1]*100\n",
    "a+b"
   ]
  },
  {
   "cell_type": "code",
   "execution_count": 80,
   "metadata": {
    "collapsed": false
   },
   "outputs": [
    {
     "name": "stdout",
     "output_type": "stream",
     "text": [
      "CPU times: user 0 ns, sys: 0 ns, total: 0 ns\n",
      "Wall time: 11.2 µs\n"
     ]
    }
   ],
   "source": [
    "%%time\n",
    "a=[1.1]*100\n",
    "b=[2.1]*100\n",
    "a<100"
   ]
  },
  {
   "cell_type": "code",
   "execution_count": null,
   "metadata": {
    "collapsed": false
   },
   "outputs": [],
   "source": []
  },
  {
   "cell_type": "code",
   "execution_count": 83,
   "metadata": {
    "collapsed": false
   },
   "outputs": [
    {
     "name": "stdout",
     "output_type": "stream",
     "text": [
      "CPU times: user 0 ns, sys: 0 ns, total: 0 ns\n",
      "Wall time: 38.9 µs\n"
     ]
    }
   ],
   "source": [
    "%%time\n",
    "a= np.ones(100)*1.1\n",
    "b= np.ones(100)*2.2\n",
    "a+b"
   ]
  },
  {
   "cell_type": "code",
   "execution_count": 1,
   "metadata": {
    "collapsed": false
   },
   "outputs": [
    {
     "ename": "NameError",
     "evalue": "name 'np' is not defined",
     "output_type": "error",
     "traceback": [
      "\u001b[1;31m---------------------------------------------------------------------------\u001b[0m",
      "\u001b[1;31mNameError\u001b[0m                                 Traceback (most recent call last)",
      "\u001b[1;32m<ipython-input-1-e02f36c0e0a3>\u001b[0m in \u001b[0;36m<module>\u001b[1;34m()\u001b[0m\n\u001b[0;32m      1\u001b[0m \u001b[1;31m##### %%time\u001b[0m\u001b[1;33m\u001b[0m\u001b[1;33m\u001b[0m\u001b[0m\n\u001b[1;32m----> 2\u001b[1;33m \u001b[0ma\u001b[0m\u001b[1;33m=\u001b[0m \u001b[0mnp\u001b[0m\u001b[1;33m.\u001b[0m\u001b[0mones\u001b[0m\u001b[1;33m(\u001b[0m\u001b[1;36m100\u001b[0m\u001b[1;33m)\u001b[0m\u001b[1;33m*\u001b[0m\u001b[1;36m1.1\u001b[0m\u001b[1;33m\u001b[0m\u001b[0m\n\u001b[0m\u001b[0;32m      3\u001b[0m \u001b[0mb\u001b[0m\u001b[1;33m=\u001b[0m \u001b[0mnp\u001b[0m\u001b[1;33m.\u001b[0m\u001b[0mones\u001b[0m\u001b[1;33m(\u001b[0m\u001b[1;36m100\u001b[0m\u001b[1;33m)\u001b[0m\u001b[1;33m*\u001b[0m\u001b[1;36m2.2\u001b[0m\u001b[1;33m\u001b[0m\u001b[0m\n\u001b[0;32m      4\u001b[0m \u001b[0ma\u001b[0m\u001b[1;33m<\u001b[0m\u001b[1;36m100\u001b[0m\u001b[1;33m\u001b[0m\u001b[0m\n",
      "\u001b[1;31mNameError\u001b[0m: name 'np' is not defined"
     ]
    }
   ],
   "source": [
    "##### %%time\n",
    "a= np.ones(100)*1.1\n",
    "b= np.ones(100)*2.2\n",
    "a<100"
   ]
  },
  {
   "cell_type": "markdown",
   "metadata": {},
   "source": [
    "## Matplotlib"
   ]
  },
  {
   "cell_type": "code",
   "execution_count": 108,
   "metadata": {
    "collapsed": false
   },
   "outputs": [
    {
     "data": {
      "image/png": "[encoded data removed]",
      "text/plain": [
       "<matplotlib.figure.Figure at 0x7f8851786990>"
      ]
     },
     "metadata": {},
     "output_type": "display_data"
    },
    {
     "data": {
      "text/plain": [
       "<matplotlib.figure.Figure at 0x7f8851781b90>"
      ]
     },
     "metadata": {},
     "output_type": "display_data"
    }
   ],
   "source": [
    "x = np.arange(-10, 11, 0.1)\n",
    "y_1 = x ** 3\n",
    "y_2= np.sin(x)*500\n",
    "y_3=[500]*len(x)\n",
    "plt.plot(x, y_1,label='$y=x^3$')\n",
    "plt.plot(x, y_2,label='$y=500sin(x)$')\n",
    "plt.plot(x, y_3,label='$y=500$')\n",
    "plt.ylabel('$y$') #подпись оси ординат\n",
    "plt.xlabel('$x$') #подпись оси абсцисс\n",
    "plt.legend(loc='upper left')\n",
    "plt.grid(True)\n",
    "plt.axis([-10, 11, -1200, 1500])\n",
    "plt.show()\n",
    "\n",
    "plt.savefig('123.png') #сохранение в файл"
   ]
  },
  {
   "cell_type": "markdown",
   "metadata": {},
   "source": [
    "## SciPy"
   ]
  },
  {
   "cell_type": "code",
   "execution_count": 138,
   "metadata": {
    "collapsed": false
   },
   "outputs": [
    {
     "name": "stdout",
     "output_type": "stream",
     "text": [
      "Матрица A:\n",
      "[[ 0.29030638 -1.14415005 -2.97785481 -0.09982482  0.34513429]\n",
      " [ 0.1348516  -0.55345571  0.16184757  0.61819861  1.43008276]\n",
      " [-1.22592495 -0.83727363 -0.40121195  0.00898842  0.99714166]\n",
      " [ 0.74402178  0.8939575   0.57117631 -0.47376859  0.6356089 ]\n",
      " [ 0.19889989 -0.75136868  1.43870807  1.18928473 -0.79317389]]\n",
      "Собственные числа:\n",
      "[ 1.96970242+0.j         0.05452885+0.6693011j  0.05452885-0.6693011j\n",
      " -2.47034872+0.j        -1.53971516+0.j       ]\n",
      "Собственные векторы:\n",
      "[[ 0.85619605+0.j         -0.24316732+0.27397047j -0.24316732-0.27397047j\n",
      "  -0.67191156+0.j          0.54489176+0.j        ]\n",
      " [-0.04095379+0.j          0.62630879+0.j          0.62630879-0.j\n",
      "  -0.17205113+0.j         -0.01352233+0.j        ]\n",
      " [-0.48648517+0.j         -0.21188073+0.10324344j -0.21188073-0.10324344j\n",
      "  -0.55153912+0.j          0.38936636+0.j        ]\n",
      " [ 0.09576077+0.j          0.59626725+0.03261491j  0.59626725-0.03261491j\n",
      "   0.43106773+0.j         -0.70903836+0.j        ]\n",
      " [-0.13933112+0.j          0.05542222+0.24150463j  0.05542222-0.24150463j\n",
      "   0.17005432+0.j          0.22038273+0.j        ]]\n"
     ]
    }
   ],
   "source": [
    "import scipy.stats as sts\n",
    "\n",
    "X = np.random.randn(5, 5)\n",
    "w, v = np.linalg.eig(X)\n",
    "print \"Матрица A:\\n\", X\n",
    "print \"Собственные числа:\\n\", w\n",
    "print \"Собственные векторы:\\n\", v"
   ]
  },
  {
   "cell_type": "markdown",
   "metadata": {},
   "source": [
    "#### проверка\n",
    "можно замнтить, что равенство выполняется \n"
   ]
  },
  {
   "cell_type": "code",
   "execution_count": 142,
   "metadata": {
    "collapsed": false
   },
   "outputs": [
    {
     "name": "stdout",
     "output_type": "stream",
     "text": [
      "[[ 1.68645143+0.j         -0.19662837-0.14781286j -0.19662837+0.14781286j\n",
      "   1.65985585+0.j         -0.83897811+0.j        ]\n",
      " [-0.08066678+0.j          0.03415190+0.41918916j  0.03415190-0.41918916j\n",
      "   0.42502629+0.j          0.02082054+0.j        ]\n",
      " [-0.95823102+0.j         -0.08065456-0.13618226j -0.08065456+0.13618226j\n",
      "   1.36249397+0.j         -0.59951329+0.j        ]\n",
      " [ 0.18862021+0.j          0.01068457+0.40086078j  0.01068457-0.40086078j\n",
      "  -1.06488763+0.j          1.09171712+0.j        ]\n",
      " [-0.27444083+0.j         -0.15861720+0.05026312j -0.15861720-0.05026312j\n",
      "  -0.42009346+0.j         -0.33932663+0.j        ]]\n",
      "\n",
      "\n",
      "[[ 1.68645143+0.j         -0.19662837-0.14781286j -0.19662837+0.14781286j\n",
      "   1.65985585+0.j         -0.83897811+0.j        ]\n",
      " [-0.08066678+0.j          0.03415190+0.41918916j  0.03415190-0.41918916j\n",
      "   0.42502629+0.j          0.02082054+0.j        ]\n",
      " [-0.95823102+0.j         -0.08065456-0.13618226j -0.08065456+0.13618226j\n",
      "   1.36249397+0.j         -0.59951329+0.j        ]\n",
      " [ 0.18862021+0.j          0.01068457+0.40086078j  0.01068457-0.40086078j\n",
      "  -1.06488763+0.j          1.09171712+0.j        ]\n",
      " [-0.27444083+0.j         -0.15861720+0.05026312j -0.15861720-0.05026312j\n",
      "  -0.42009346+0.j         -0.33932663+0.j        ]]\n"
     ]
    }
   ],
   "source": [
    "print np.dot(X,v)\n",
    "print '\\n'\n",
    "print  np.dot(v,np.diag(w)) "
   ]
  },
  {
   "cell_type": "code",
   "execution_count": null,
   "metadata": {
    "collapsed": false
   },
   "outputs": [],
   "source": [
    " "
   ]
  },
  {
   "cell_type": "code",
   "execution_count": null,
   "metadata": {
    "collapsed": false
   },
   "outputs": [],
   "source": [
    " "
   ]
  },
  {
   "cell_type": "code",
   "execution_count": null,
   "metadata": {
    "collapsed": false
   },
   "outputs": [],
   "source": [
    " "
   ]
  },
  {
   "cell_type": "code",
   "execution_count": null,
   "metadata": {
    "collapsed": true
   },
   "outputs": [],
   "source": []
  },
  {
   "cell_type": "code",
   "execution_count": null,
   "metadata": {
    "collapsed": true
   },
   "outputs": [],
   "source": []
  }
 ],
 "metadata": {
  "kernelspec": {
   "display_name": "Python [Root]",
   "language": "python",
   "name": "Python [Root]"
  },
  "language_info": {
   "codemirror_mode": {
    "name": "ipython",
    "version": 2
   },
   "file_extension": ".py",
   "mimetype": "text/x-python",
   "name": "python",
   "nbconvert_exporter": "python",
   "pygments_lexer": "ipython2",
   "version": "2.7.12"
  }
 },
 "nbformat": 4,
 "nbformat_minor": 0
}
